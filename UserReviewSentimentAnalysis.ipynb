{
 "cells": [
  {
   "cell_type": "markdown",
   "id": "1d72d259-1659-4fd9-b57a-44ce786082e7",
   "metadata": {},
   "source": [
    "## Loading dataset"
   ]
  },
  {
   "cell_type": "code",
   "execution_count": 22,
   "id": "0cafbe32-a263-4740-ae3b-d89115eb57e8",
   "metadata": {},
   "outputs": [
    {
     "name": "stdout",
     "output_type": "stream",
     "text": [
      "   id                                             review\n",
      "0   1  I love this app! It is so useful and easy to use.\n",
      "1   2  Terrible experience. The app crashes all the t...\n",
      "2   3        Decent app but needs improvement in the UI.\n",
      "3   4           Fantastic! This app has changed my life.\n",
      "4   5       The app is okay, but it lacks many features.\n"
     ]
    }
   ],
   "source": [
    "import pandas as pd\n",
    "import matplotlib.pyplot as plt\n",
    "from textblob import TextBlob\n",
    "import string\n",
    "\n",
    "df = pd.read_csv(r\"Copy of user_review.csv\")\n",
    "print(df.head())"
   ]
  },
  {
   "cell_type": "markdown",
   "id": "a101144a-5b89-4097-94b0-dd917c6accc2",
   "metadata": {},
   "source": [
    "## Cleaning"
   ]
  },
  {
   "cell_type": "code",
   "execution_count": 12,
   "id": "f60a3ec2-8f28-4c62-bf14-5fb093e62edd",
   "metadata": {},
   "outputs": [
    {
     "name": "stdout",
     "output_type": "stream",
     "text": [
      "id        0\n",
      "review    0\n",
      "dtype: int64\n",
      "                                              review\n",
      "0  I love this app! It is so useful and easy to use.\n",
      "1  Terrible experience. The app crashes all the t...\n",
      "2        Decent app but needs improvement in the UI.\n",
      "3           Fantastic! This app has changed my life.\n",
      "4       The app is okay, but it lacks many features.\n"
     ]
    }
   ],
   "source": [
    "print(df.isnull().sum())\n",
    "df.dropna(inplace=True)\n",
    "df.drop(columns=['id'], inplace=True)\n",
    "print(df.head())\n",
    "# There wasn't anything to clean as the nothign was dropped or to say no null values were found"
   ]
  },
  {
   "cell_type": "markdown",
   "id": "5ef266aa-c2c3-4663-8c32-0cbfdce041b5",
   "metadata": {},
   "source": [
    "## Basic text processing"
   ]
  },
  {
   "cell_type": "code",
   "execution_count": 13,
   "id": "38a39eb5-c2c2-41c0-b3c6-d6c7371adf7c",
   "metadata": {},
   "outputs": [
    {
     "name": "stdout",
     "output_type": "stream",
     "text": [
      "                                             review\n",
      "0   i love this app it is so useful and easy to use\n",
      "1  terrible experience the app crashes all the time\n",
      "2        decent app but needs improvement in the ui\n",
      "3            fantastic this app has changed my life\n",
      "4        the app is okay but it lacks many features\n"
     ]
    }
   ],
   "source": [
    "def preprocess_text(text):\n",
    "    text = text.lower()\n",
    "    # Remove punctuation\n",
    "    text = text.translate(str.maketrans('', '', string.punctuation))\n",
    "    return text\n",
    "\n",
    "df['review'] = df['review'].apply(preprocess_text)\n",
    "print(df.head())\n"
   ]
  },
  {
   "cell_type": "markdown",
   "id": "84a670f4-4d9d-43ea-8681-1b224d5a3848",
   "metadata": {},
   "source": [
    "## Sentiment Analysis"
   ]
  },
  {
   "cell_type": "code",
   "execution_count": 17,
   "id": "bd13c52d-e6ec-41c4-a7c3-3802fcb152db",
   "metadata": {},
   "outputs": [
    {
     "name": "stdout",
     "output_type": "stream",
     "text": [
      "                                             review sentiment\n",
      "0   i love this app it is so useful and easy to use  positive\n",
      "1  terrible experience the app crashes all the time  negative\n",
      "2        decent app but needs improvement in the ui  positive\n",
      "3            fantastic this app has changed my life  positive\n",
      "4        the app is okay but it lacks many features  positive\n"
     ]
    }
   ],
   "source": [
    "def get_sentiment(text):\n",
    "    # Perform sentiment analysis\n",
    "    sentiment = TextBlob(text).sentiment.polarity\n",
    "    if sentiment > 0:\n",
    "        return 'positive'\n",
    "    elif sentiment < 0:\n",
    "        return 'negative'\n",
    "    else:\n",
    "        return 'neutral'\n",
    "\n",
    "df['sentiment'] = df['review'].apply(get_sentiment)\n",
    "print(df.head())\n"
   ]
  },
  {
   "cell_type": "code",
   "execution_count": 18,
   "id": "d21f7b8e-df11-433e-bc60-8b0e8473b5a2",
   "metadata": {},
   "outputs": [
    {
     "name": "stdout",
     "output_type": "stream",
     "text": [
      "Negative Feedback:\n",
      "                                               review sentiment\n",
      "1    terrible experience the app crashes all the time  negative\n",
      "5                   worst app ever it is full of bugs  negative\n",
      "9           the app is slow and unresponsive at times  negative\n",
      "11  i had a bad experience the customer support is...  negative\n",
      "15     disappointed the app doesnt work as advertised  negative\n",
      "21           the interface is cluttered and confusing  negative\n",
      "26                not worth the money i want a refund  negative\n",
      "42              not intuitive at all very complicated  negative\n",
      "48                     i wouldnâ€™t use any other app  negative\n",
      "49                      the app could use a dark mode  negative\n"
     ]
    }
   ],
   "source": [
    "# Filter and display negative feedback\n",
    "negative_feedback = df[df['sentiment'] == 'negative']\n",
    "\n",
    "# Print the negative feedback\n",
    "print(\"Negative Feedback:\")\n",
    "print(negative_feedback)\n"
   ]
  },
  {
   "cell_type": "markdown",
   "id": "0066a4f3-124f-4f9c-98d9-7ff39daaaa91",
   "metadata": {},
   "source": [
    "## Summary"
   ]
  },
  {
   "cell_type": "code",
   "execution_count": 15,
   "id": "c9772fff-3cb5-402f-8af5-e650502594a5",
   "metadata": {},
   "outputs": [
    {
     "name": "stdout",
     "output_type": "stream",
     "text": [
      "sentiment\n",
      "positive    32\n",
      "negative    10\n",
      "neutral      8\n",
      "Name: count, dtype: int64\n"
     ]
    },
    {
     "data": {
      "image/png": "[encoded data removed]",
      "text/plain": [
       "<Figure size 640x480 with 1 Axes>"
      ]
     },
     "metadata": {},
     "output_type": "display_data"
    }
   ],
   "source": [
    "sentiment_distribution = df['sentiment'].value_counts()\n",
    "print(sentiment_distribution)\n",
    "sentiment_distribution.plot(kind='bar', color=['green', 'red', 'grey'])\n",
    "plt.title('Sentiment Distribution')\n",
    "plt.xlabel('Sentiment')\n",
    "plt.ylabel('Number of Reviews')\n",
    "plt.show()\n"
   ]
  },
  {
   "cell_type": "markdown",
   "id": "8b0782b7-260a-4c42-95d3-31712b989391",
   "metadata": {},
   "source": [
    "## Reviewing Negative Feedbacks"
   ]
  },
  {
   "cell_type": "code",
   "execution_count": 1,
   "id": "9150ccee-65c1-4197-bdf4-d7ece97ef5b0",
   "metadata": {},
   "outputs": [
    {
     "ename": "ModuleNotFoundError",
     "evalue": "No module named 'nltk'",
     "output_type": "error",
     "traceback": [
      "\u001b[1;31m---------------------------------------------------------------------------\u001b[0m",
      "\u001b[1;31mModuleNotFoundError\u001b[0m                       Traceback (most recent call last)",
      "Cell \u001b[1;32mIn[1], line 3\u001b[0m\n\u001b[0;32m      1\u001b[0m \u001b[38;5;66;03m### import nltk\u001b[39;00m\n\u001b[0;32m      2\u001b[0m \u001b[38;5;28;01mfrom\u001b[39;00m \u001b[38;5;21;01mcollections\u001b[39;00m \u001b[38;5;28;01mimport\u001b[39;00m Counter\n\u001b[1;32m----> 3\u001b[0m \u001b[38;5;28;01mfrom\u001b[39;00m \u001b[38;5;21;01mnltk\u001b[39;00m\u001b[38;5;21;01m.\u001b[39;00m\u001b[38;5;21;01mcorpus\u001b[39;00m \u001b[38;5;28;01mimport\u001b[39;00m stopwords\n\u001b[0;32m      4\u001b[0m \u001b[38;5;28;01mfrom\u001b[39;00m \u001b[38;5;21;01mnltk\u001b[39;00m\u001b[38;5;21;01m.\u001b[39;00m\u001b[38;5;21;01mtokenize\u001b[39;00m \u001b[38;5;28;01mimport\u001b[39;00m word_tokenize\n\u001b[0;32m      5\u001b[0m \u001b[38;5;28;01mfrom\u001b[39;00m \u001b[38;5;21;01mnltk\u001b[39;00m\u001b[38;5;21;01m.\u001b[39;00m\u001b[38;5;21;01mstem\u001b[39;00m \u001b[38;5;28;01mimport\u001b[39;00m WordNetLemmatizer\n",
      "\u001b[1;31mModuleNotFoundError\u001b[0m: No module named 'nltk'"
     ]
    }
   ],
   "source": [
    "### import nltk\n",
    "from collections import Counter\n",
    "from nltk.corpus import stopwords\n",
    "from nltk.tokenize import word_tokenize\n",
    "from nltk.stem import WordNetLemmatizer\n",
    "\n",
    "# Ensure necessary NLTK data files are downloaded\n",
    "nltk.download('punkt')\n",
    "nltk.download('stopwords')\n",
    "nltk.download('wordnet')\n",
    "\n",
    "df['review'] = df['review'].apply(preprocess_text)\n",
    "\n",
    "# Preprocess text for keyword extraction\n",
    "stop_words = set(stopwords.words('english'))\n",
    "lemmatizer = WordNetLemmatizer()\n",
    "\n",
    "def tokenize_and_filter(text):\n",
    "    tokens = word_tokenize(text)\n",
    "    filtered_tokens = [lemmatizer.lemmatize(w) for w in tokens if w not in stop_words and w.isalpha()]\n",
    "    return filtered_tokens\n",
    "\n",
    "negative_feedback['tokens'] = negative_feedback['review'].apply(tokenize_and_filter)\n",
    "\n",
    "# Extract keywords\n",
    "all_words = [word for tokens in negative_feedback['tokens'] for word in tokens]\n",
    "word_counts = Counter(all_words)\n",
    "most_common_words = word_counts.most_common(20)  # Get the 20 most common words\n",
    "print(\"Most common words in negative feedback:\")\n",
    "for word, count in most_common_words:\n",
    "    print(f\"{word}: {count}\")\n",
    "\n",
    "# Optionally, created a word cloud for visualization\n",
    "from wordcloud import WordCloud\n",
    "import matplotlib.pyplot as plt\n",
    "\n",
    "wordcloud = WordCloud(width=800, height=400, background_color='white').generate_from_frequencies(word_counts)\n",
    "\n",
    "plt.figure(figsize=(10, 5))\n",
    "plt.imshow(wordcloud, interpolation='bilinear')\n",
    "plt.axis('off')\n",
    "plt.show()\n"
   ]
  }
 ],
 "metadata": {
  "kernelspec": {
   "display_name": "Python 3 (ipykernel)",
   "language": "python",
   "name": "python3"
  },
  "language_info": {
   "codemirror_mode": {
    "name": "ipython",
    "version": 3
   },
   "file_extension": ".py",
   "mimetype": "text/x-python",
   "name": "python",
   "nbconvert_exporter": "python",
   "pygments_lexer": "ipython3",
   "version": "3.10.6"
  }
 },
 "nbformat": 4,
 "nbformat_minor": 5
}
